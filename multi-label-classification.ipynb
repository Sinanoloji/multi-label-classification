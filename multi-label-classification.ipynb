{
  "cells": [
    {
      "cell_type": "code",
      "execution_count": null,
      "metadata": {
        "colab": {
          "base_uri": "https://localhost:8080/",
          "height": 1000
        },
        "id": "0a7JDnpumSpU",
        "outputId": "6b7e28ce-5204-40ed-f646-e48f74277722"
      },
      "outputs": [],
      "source": [
        "from google.colab import files\n",
        "files.upload()\n",
        "\n",
        "!ls -lha kaggle.json\n",
        "!pip install -q kaggle\n",
        "!mkdir -p ~/.kaggle\n",
        "!cp kaggle.json ~/.kaggle/\n",
        "!chmod 600 /root/.kaggle/kaggle.json\n",
        "!kaggle datasets download -d paramaggarwal/fashion-product-images-small\n",
        "!unzip fashion-product-images-small.zip"
      ]
    },
    {
      "cell_type": "code",
      "execution_count": null,
      "metadata": {
        "id": "eoKbVua5PgvH"
      },
      "outputs": [],
      "source": [
        "import pandas as pd\n",
        "df = pd.read_csv(\"/content/styles_1.csv\", on_bad_lines='skip')\n",
        "apparels = df[df[\"masterCategory\"] == \"Apparel\"]\n",
        "apparels = apparels[(apparels.subCategory == \"Topwear\") | (apparels.subCategory==\"Bottomwear\") | (apparels.subCategory==\"Dress\") ]\n",
        "apparels.drop([\"masterCategory\",\"year\",\"gender\",\"articleType\",\"productDisplayName\",],axis=1, inplace=True)\n",
        "apparels.dropna(inplace=True)\n",
        "apparels.loc[:,\"image\"] = apparels.apply(lambda row: str(row[\"id\"]) + \".jpg\", axis=1)\n",
        "#apparels  = apparels.sample(frac=1).reset_index(drop=True)\n",
        "apparels.dropna(inplace=True)\n",
        "apparels.loc[(apparels.baseColour==\"Red\")|\n",
        "             (apparels.baseColour==\"Burgundy\"),\"colorgroup\"] = \"Red\"\n",
        "apparels.loc[(apparels.baseColour==\"Brown\")|\n",
        "             (apparels.baseColour==\"Coffee Brown\")|\n",
        "             (apparels.baseColour==\"Maroon\")|\n",
        "             (apparels.baseColour==\"Rust\")|\n",
        "             (apparels.baseColour==\"Mushroom Brown\"),\"colorgroup\"] = \"Brown\"\n",
        "apparels.loc[(apparels.baseColour==\"Copper\")|\n",
        "             (apparels.baseColour==\"Orange\")|\n",
        "             (apparels.baseColour==\"Bronze\")|\n",
        "             (apparels.baseColour==\"Skin\")|\n",
        "             (apparels.baseColour==\"Nude\"),\"colorgroup\"] = \"Orange\"\n",
        "apparels.loc[(apparels.baseColour==\"Gold\")|\n",
        "             (apparels.baseColour==\"Khaki\")|\n",
        "             (apparels.baseColour==\"Beige\")|\n",
        "             (apparels.baseColour==\"Mustard\")|\n",
        "             (apparels.baseColour==\"Tan\")|\n",
        "             (apparels.baseColour==\"Metallic\")|\n",
        "             (apparels.baseColour==\"Yellow\"),\"colorgroup\"] = \"Yellow\"\n",
        "apparels.loc[(apparels.baseColour==\"Lime Green\")|\n",
        "             (apparels.baseColour==\"Green\")|\n",
        "             (apparels.baseColour==\"Sea Green\")|\n",
        "             (apparels.baseColour==\"Fluorescent Green\")|\n",
        "             (apparels.baseColour==\"Olive\"),\"colorgroup\"] = \"Green\"\n",
        "apparels.loc[(apparels.baseColour==\"Teal\")|\n",
        "             (apparels.baseColour==\"Turquoise Blue\")|\n",
        "             (apparels.baseColour==\"Blue\")|\n",
        "             (apparels.baseColour==\"Navy Blue\"),\"colorgroup\"] = \"Blue\"\n",
        "apparels.loc[(apparels.baseColour==\"Purple\")|\n",
        "             (apparels.baseColour==\"Lavender\"),\"colorgroup\"] = \"Purple\"\n",
        "apparels.loc[(apparels.baseColour==\"Pink\")|\n",
        "             (apparels.baseColour==\"Magenta\")|\n",
        "             (apparels.baseColour==\"Peach\")|\n",
        "             (apparels.baseColour==\"Rose\")|\n",
        "             (apparels.baseColour==\"Mauve\"),\"colorgroup\"] = \"Pink\"\n",
        "apparels.loc[(apparels.baseColour==\"Black\")|\n",
        "             (apparels.baseColour==\"Charcoal\"),\"colorgroup\"] = \"Black\"\n",
        "apparels.loc[(apparels.baseColour==\"White\")|\n",
        "             (apparels.baseColour==\"Off White\")|\n",
        "             (apparels.baseColour==\"Cream\"),\"colorgroup\"] = \"White\"\n",
        "apparels.loc[(apparels.baseColour==\"Grey\")|\n",
        "             (apparels.baseColour==\"Silver\")|\n",
        "             (apparels.baseColour==\"Taupe\")|\n",
        "             (apparels.baseColour==\"Grey Melange\"),\"colorgroup\"] = \"Grey\"\n",
        "apparels.loc[(apparels.baseColour==\"Multi\"),\"colorgroup\"] = \"Mixed\"\n",
        "\n",
        "apparels.baseColour = apparels.colorgroup\n",
        "apparels.drop(\"colorgroup\",axis=1,inplace=True)"
      ]
    },
    {
      "cell_type": "code",
      "execution_count": null,
      "metadata": {
        "id": "i5BotYbSPoPP"
      },
      "outputs": [],
      "source": [
        "from sklearn.model_selection import train_test_split\n",
        "from sklearn.preprocessing import LabelEncoder\n",
        "import tensorflow as tf\n",
        "from tensorflow.data import AUTOTUNE\n",
        "from tensorflow.keras import layers\n",
        "\n",
        "\n",
        "le = LabelEncoder()\n",
        "\n",
        "apparels.loc[:,\"color_id\"]= le.fit_transform(apparels[\"baseColour\"])\n",
        "apparels.loc[:,\"type_id\"]= le.fit_transform(apparels[\"subCategory\"])\n",
        "apparels.loc[:,\"season_id\"]= le.fit_transform(apparels[\"season\"])\n",
        "apparels.loc[:,\"usage_id\"]= le.fit_transform(apparels[\"usage\"])\n",
        "\n"
      ]
    },
    {
      "cell_type": "code",
      "execution_count": null,
      "metadata": {
        "id": "4EEB0n_BJggW"
      },
      "outputs": [],
      "source": [
        "x_train , x_test = train_test_split(apparels,test_size=0.3)\n",
        "\n",
        "color_colum = \"color_id\"\n",
        "color_train = x_train[color_colum].to_numpy()\n",
        "color_test = x_test[color_colum].to_numpy()\n",
        "\n",
        "type_colum = \"type_id\"\n",
        "type_train = x_train[type_colum].to_numpy()\n",
        "type_test = x_test[type_colum].to_numpy()\n",
        "\n",
        "season_colum = \"season_id\"\n",
        "season_train = x_train[season_colum].to_numpy()\n",
        "season_test = x_test[season_colum].to_numpy()\n",
        "\n",
        "usage_colum = \"usage_id\"\n",
        "usage_train = x_train[usage_colum].to_numpy()\n",
        "usage_test = x_test[usage_colum].to_numpy()\n",
        "\n",
        "\n"
      ]
    },
    {
      "cell_type": "code",
      "execution_count": null,
      "metadata": {
        "id": "Pql5RybkF1Wz"
      },
      "outputs": [],
      "source": [
        "@tf.function\n",
        "def load_image(image_path, label_dict):\n",
        "  image = tf.io.read_file(\"/content/myntradataset/images/\" + image_path)\n",
        "  image = tf.image.decode_png(image, channels=3)\n",
        "  image = tf.image.resize(image,[80,60])\n",
        "  image = image / 255.\n",
        "  return (image, label_dict)"
      ]
    },
    {
      "cell_type": "code",
      "execution_count": null,
      "metadata": {
        "id": "p-raySzVFz9b"
      },
      "outputs": [],
      "source": [
        "train_dataset = tf.data.Dataset.from_tensor_slices((x_train[\"image\"].tolist(),\n",
        "                                                    {\"type\":type_train,\n",
        "                                                     \"color\":color_train,\n",
        "                                                     \"usage\":usage_train,\n",
        "                                                     \"season\":season_train\n",
        "                                                     }))\n",
        "\n",
        "valid_dataset = tf.data.Dataset.from_tensor_slices((x_test[\"image\"].tolist(),\n",
        "                                                  {\"type\":type_test,\n",
        "                                                   \"color\":color_test,\n",
        "                                                   \"usage\":usage_test,\n",
        "                                                   \"season\":season_test\n",
        "                                                   }))\n",
        "\n",
        "\n",
        "SHUFFLE_VAL = len(x_train)\n",
        "BATCH_SIZE = 64\n",
        "\n",
        "train_dataset = train_dataset.shuffle(SHUFFLE_VAL).map(load_image).batch(BATCH_SIZE).prefetch(AUTOTUNE)\n",
        "valid_dataset = valid_dataset.map(load_image).batch(BATCH_SIZE).prefetch(AUTOTUNE)"
      ]
    },
    {
      "cell_type": "code",
      "execution_count": null,
      "metadata": {
        "colab": {
          "base_uri": "https://localhost:8080/"
        },
        "id": "II8nCXHGTfFZ",
        "outputId": "d2d48ee2-5619-4614-e30a-54efb3dc6219"
      },
      "outputs": [],
      "source": [
        "base_model = tf.keras.applications.MobileNetV2(input_shape=(80,60,3),include_top=False, weights=\"imagenet\")\n",
        "#base_model.trainable = False\n",
        "\n",
        "for layer in base_model.layers[:5]:\n",
        "  layer.trainable = False"
      ]
    },
    {
      "cell_type": "code",
      "execution_count": null,
      "metadata": {
        "id": "pQnf_hE8Pqq8"
      },
      "outputs": [],
      "source": [
        "NUM_USAGE = len(apparels.usage_id.unique())\n",
        "NUM_SEASON = len(apparels.season_id.unique())\n",
        "NUM_COLOR = len(apparels.color_id.unique())\n",
        "NUM_TYPE = len(apparels.type_id.unique())\n",
        "\n",
        "input = layers.Input((80,60,3))\n",
        "\n",
        "augment = tf.keras.Sequential([\n",
        "    layers.experimental.preprocessing.RandomFlip(\"horizontal\"),\n",
        "    layers.experimental.preprocessing.RandomRotation(0.2),\n",
        "    layers.experimental.preprocessing.RandomZoom(0.2)\n",
        "])\n",
        "t = augment(input)\n",
        "t = base_model(t,training=False)\n",
        "t = layers.GlobalAveragePooling2D()(t)\n",
        "t = layers.Dense(1024,activation=\"relu\",kernel_regularizer=\"l2\")(t)\n",
        "t = layers.Dense(512,activation=\"relu\")(t)\n",
        "t = layers.Dense(256,activation=\"relu\",kernel_regularizer=\"l2\")(t)\n",
        "t = layers.Dense(128,activation=\"relu\")(t)\n",
        "t = layers.Dense(64,activation=\"relu\")(t)\n",
        "\n",
        "\n",
        "\n",
        "color_outputs=layers.Dense(NUM_COLOR,activation=\"softmax\",name=\"color\")(t)\n",
        "type_outputs=layers.Dense(NUM_TYPE,activation=\"softmax\",name=\"type\")(t)\n",
        "usage_outputs=layers.Dense(NUM_USAGE,activation=\"softmax\",name=\"usage\")(t)\n",
        "season_outputs=layers.Dense(NUM_SEASON,activation=\"softmax\",name=\"season\")(t)\n",
        "\n",
        "model_1 = tf.keras.Model(inputs=input,outputs=[color_outputs,\n",
        "                                               season_outputs,\n",
        "                                               usage_outputs,\n",
        "                                               type_outputs\n",
        "                                               ]\n",
        "                         )\n",
        "\n",
        "initial_learning_rate = 1e-4\n",
        "#lr_schedule = tf.keras.optimizers.schedules.ExponentialDecay(\n",
        "    #initial_learning_rate, decay_steps=1000, decay_rate=0.01)\n",
        "optimizer = tf.keras.optimizers.Adam(learning_rate=initial_learning_rate)\n",
        "\n",
        "model_1.compile(optimizer=optimizer,\n",
        "                loss={\"color\":\"sparse_categorical_crossentropy\",\n",
        "                      \"type\":\"sparse_categorical_crossentropy\",\n",
        "                      \"usage\":\"sparse_categorical_crossentropy\",\n",
        "                      \"season\":\"sparse_categorical_crossentropy\"\n",
        "                      },\n",
        "                metrics={\"color\": [\"accuracy\"],\n",
        "                         \"type\": [\"accuracy\"],\n",
        "                         \"usage\": [\"accuracy\"],\n",
        "                         \"season\": [\"accuracy\"]\n",
        "                         }\n",
        "                )\n"
      ]
    },
    {
      "cell_type": "code",
      "execution_count": null,
      "metadata": {
        "id": "I27psHe8jRdv"
      },
      "outputs": [],
      "source": [
        "model_1.summary()"
      ]
    },
    {
      "cell_type": "code",
      "execution_count": null,
      "metadata": {
        "id": "b_A9TMpCE35v"
      },
      "outputs": [],
      "source": [
        "tf.keras.utils.plot_model(model_1,show_shapes=True,show_layer_names=True)"
      ]
    },
    {
      "cell_type": "code",
      "execution_count": null,
      "metadata": {
        "id": "zpj_SBw5G3Pn"
      },
      "outputs": [],
      "source": [
        "callback = tf.keras.callbacks.EarlyStopping(monitor=\"val_loss\",patience=3)"
      ]
    },
    {
      "cell_type": "code",
      "execution_count": null,
      "metadata": {
        "colab": {
          "base_uri": "https://localhost:8080/"
        },
        "id": "ZLrwxTL3Ps5k",
        "outputId": "17f232a4-024c-4b8e-db16-a13938be581d"
      },
      "outputs": [],
      "source": [
        "history_1 = model_1.fit(train_dataset,\n",
        "                        epochs=35,\n",
        "                        validation_data=valid_dataset,\n",
        "                        callbacks=[callback]\n",
        "                        )"
      ]
    },
    {
      "cell_type": "code",
      "execution_count": null,
      "metadata": {
        "colab": {
          "base_uri": "https://localhost:8080/"
        },
        "id": "F6oVjETOQPcb",
        "outputId": "fa009563-755e-4478-a258-fa29d3b811a7"
      },
      "outputs": [],
      "source": [
        " model_1.evaluate(valid_dataset)"
      ]
    },
    {
      "cell_type": "code",
      "execution_count": null,
      "metadata": {
        "colab": {
          "base_uri": "https://localhost:8080/",
          "height": 927
        },
        "id": "xs6-L1Tw7pKv",
        "outputId": "fb741012-6540-4385-9b66-8767312f0238"
      },
      "outputs": [],
      "source": [
        "import matplotlib.pyplot as plt\n",
        "plt.plot(history_1.history['val_color_accuracy'])\n",
        "plt.plot(history_1.history['val_type_accuracy'])\n",
        "plt.plot(history_1.history['val_usage_accuracy'])\n",
        "plt.plot(history_1.history['val_season_accuracy'])\n",
        "plt.plot(history_1.history['color_accuracy'])\n",
        "plt.plot(history_1.history['type_accuracy'])\n",
        "plt.plot(history_1.history['usage_accuracy'])\n",
        "plt.plot(history_1.history['season_accuracy'])\n",
        "plt.title('Model accuracy')\n",
        "plt.ylabel('Accuracy')\n",
        "plt.xlabel('Epoch')\n",
        "plt.legend(['Val Color Accuracy', 'Val Type Accuracy',\"Val Usage Accuracy\",\"Val Season Accuracy\",\"Color Accuracy\",\"Type Accuracy\",\"Usage Accuracy\",\"Season Accuracy\"], loc='upper left')\n",
        "plt.show()\n",
        "\n",
        "# Plot training & validation loss values\n",
        "plt.plot(history_1.history['color_loss'])\n",
        "plt.plot(history_1.history['type_loss'])\n",
        "plt.plot(history_1.history['usage_loss'])\n",
        "plt.plot(history_1.history['season_loss'])\n",
        "plt.title('Model loss')\n",
        "plt.ylabel('Loss')\n",
        "plt.xlabel('Epoch')\n",
        "plt.legend(['Color Loss', 'Type Loss','Usage Loss', 'Season Loss'], loc='upper left')\n",
        "plt.show()"
      ]
    },
    {
      "cell_type": "code",
      "execution_count": null,
      "metadata": {
        "id": "hOZOLqA1b6vw"
      },
      "outputs": [],
      "source": [
        "model_1.save(\"model_1.h5\")"
      ]
    },
    {
      "cell_type": "code",
      "execution_count": null,
      "metadata": {
        "id": "AagVyyz4_oC_"
      },
      "outputs": [],
      "source": [
        "clr = ['Blue', 'Black', 'Grey', 'Green', 'Purple', 'White', 'Brown',\n",
        "       'Pink', 'Yellow', 'Red', 'Orange', 'Mixed']\n",
        "clr.sort()\n",
        "\n",
        "ssn = ['Fall', 'Summer', 'Spring', 'Winter']\n",
        "ssn.sort()\n",
        "\n",
        "sbc = ['Topwear', 'Bottomwear', 'Dress']\n",
        "sbc.sort()\n",
        "\n",
        "usg = ['Casual', 'Ethnic', 'Formal', 'Sports', 'Smart Casual', 'Party','Travel']\n",
        "usg.sort()\n",
        "\n",
        "clr_dict = {i: clr[i] for i in range(len(clr))}\n",
        "ssn_dict = {i: ssn[i] for i in range(len(ssn))}\n",
        "sbc_dict = {i: sbc[i] for i in range(len(sbc))}\n",
        "usg_dict = {i: usg[i] for i in range(len(usg))}"
      ]
    },
    {
      "cell_type": "code",
      "execution_count": null,
      "metadata": {
        "id": "lcVE16r8dEIi"
      },
      "outputs": [],
      "source": [
        "import tensorflow as tf\n",
        "import numpy as np\n",
        "import matplotlib.pyplot as plt\n",
        "\n",
        "model = tf.keras.models.load_model(\"model_1.h5\")"
      ]
    },
    {
      "cell_type": "code",
      "execution_count": null,
      "metadata": {
        "id": "FV8gU1wz8iqE"
      },
      "outputs": [],
      "source": [
        "img = tf.io.read_file(\"/content/*.jpg\")\n",
        "img = tf.image.decode_image(img, channels=3)\n",
        "img = tf.image.resize(img,size= [80,60])\n",
        "img = img/255.0"
      ]
    },
    {
      "cell_type": "code",
      "execution_count": null,
      "metadata": {
        "colab": {
          "base_uri": "https://localhost:8080/"
        },
        "id": "1kXNCNDx9CmO",
        "outputId": "fbec359e-eefc-4d6b-8b94-43e7348314e9"
      },
      "outputs": [],
      "source": [
        "prediction = model_1.predict(tf.expand_dims(img,axis=0))"
      ]
    },
    {
      "cell_type": "code",
      "execution_count": null,
      "metadata": {
        "id": "xpBE_DtP8yzx"
      },
      "outputs": [],
      "source": [
        "import numpy as np\n",
        "clr_o = np.argmax(prediction[0])\n",
        "ssn_o = np.argmax(prediction[1])\n",
        "usg_o = np.argmax(prediction[2])\n",
        "sbc_o = np.argmax(prediction[3])"
      ]
    },
    {
      "cell_type": "code",
      "execution_count": null,
      "metadata": {
        "colab": {
          "base_uri": "https://localhost:8080/",
          "height": 428
        },
        "id": "TcHfeAiB9spH",
        "outputId": "b27d7cf4-d04a-4448-b85e-3928ef53e338"
      },
      "outputs": [],
      "source": [
        "import matplotlib.pyplot as plt\n",
        "plt.imshow(img)\n",
        "plt.title(f\"Prediction: {sbc_dict[sbc_o],clr_dict[clr_o],usg_dict[usg_o],ssn_dict[ssn_o]}\")\n",
        "plt.axis(False);"
      ]
    },
    {
      "cell_type": "code",
      "execution_count": null,
      "metadata": {
        "id": "pUYfsCuF9_pW"
      },
      "outputs": [],
      "source": []
    }
  ],
  "metadata": {
    "accelerator": "GPU",
    "colab": {
      "gpuType": "T4",
      "provenance": [],
      "toc_visible": true
    },
    "kernelspec": {
      "display_name": "Python 3",
      "name": "python3"
    },
    "language_info": {
      "name": "python"
    }
  },
  "nbformat": 4,
  "nbformat_minor": 0
}
